{
 "cells": [
  {
   "cell_type": "markdown",
   "id": "b670912e-3595-4b88-84b0-cdf374b9668f",
   "metadata": {},
   "source": [
    "# Train an SMS spam detector"
   ]
  },
  {
   "cell_type": "markdown",
   "id": "c9e60cec-25e7-4cd1-bc6f-22d962acf039",
   "metadata": {},
   "source": [
    "## Import dependencies"
   ]
  },
  {
   "cell_type": "code",
   "execution_count": 1,
   "id": "cdbc3360-2512-4058-b893-abaa535e71ef",
   "metadata": {},
   "outputs": [],
   "source": [
    "import numpy as np\n",
    "import pandas as pd\n",
    "\n",
    "import joblib, re\n",
    "\n",
    "from sklearn.pipeline import Pipeline\n",
    "from sklearn.linear_model import LogisticRegression\n",
    "from sklearn.feature_extraction.text import TfidfVectorizer\n",
    "from sklearn.metrics import accuracy_score, classification_report\n",
    "from sklearn.neural_network import MLPClassifier\n",
    "from sklearn.model_selection import train_test_split, cross_val_score\n",
    "\n",
    "import streamlit as st\n"
   ]
  },
  {
   "cell_type": "markdown",
   "id": "a887c671-e63e-4f0b-b629-37234b4becfc",
   "metadata": {},
   "source": [
    "## Load and read the data"
   ]
  },
  {
   "cell_type": "code",
   "execution_count": 2,
   "id": "c75b8f7d-3a53-49be-be97-157795bdb60a",
   "metadata": {},
   "outputs": [],
   "source": [
    "# read data\n",
    "df = pd.read_csv('data/spam.csv', encoding=\"ISO-8859-1\")\n",
    "\n",
    "# drop useless columns\n",
    "df = df[['v1', 'v2']]"
   ]
  },
  {
   "cell_type": "code",
   "execution_count": 3,
   "id": "c5a6332b-909a-437a-b7d0-29bdde3876da",
   "metadata": {},
   "outputs": [
    {
     "data": {
      "text/html": [
       "<div>\n",
       "<style scoped>\n",
       "    .dataframe tbody tr th:only-of-type {\n",
       "        vertical-align: middle;\n",
       "    }\n",
       "\n",
       "    .dataframe tbody tr th {\n",
       "        vertical-align: top;\n",
       "    }\n",
       "\n",
       "    .dataframe thead th {\n",
       "        text-align: right;\n",
       "    }\n",
       "</style>\n",
       "<table border=\"1\" class=\"dataframe\">\n",
       "  <thead>\n",
       "    <tr style=\"text-align: right;\">\n",
       "      <th></th>\n",
       "      <th>v1</th>\n",
       "      <th>v2</th>\n",
       "    </tr>\n",
       "  </thead>\n",
       "  <tbody>\n",
       "    <tr>\n",
       "      <th>0</th>\n",
       "      <td>ham</td>\n",
       "      <td>Go until jurong point, crazy.. Available only ...</td>\n",
       "    </tr>\n",
       "    <tr>\n",
       "      <th>1</th>\n",
       "      <td>ham</td>\n",
       "      <td>Ok lar... Joking wif u oni...</td>\n",
       "    </tr>\n",
       "    <tr>\n",
       "      <th>2</th>\n",
       "      <td>spam</td>\n",
       "      <td>Free entry in 2 a wkly comp to win FA Cup fina...</td>\n",
       "    </tr>\n",
       "    <tr>\n",
       "      <th>3</th>\n",
       "      <td>ham</td>\n",
       "      <td>U dun say so early hor... U c already then say...</td>\n",
       "    </tr>\n",
       "    <tr>\n",
       "      <th>4</th>\n",
       "      <td>ham</td>\n",
       "      <td>Nah I don't think he goes to usf, he lives aro...</td>\n",
       "    </tr>\n",
       "  </tbody>\n",
       "</table>\n",
       "</div>"
      ],
      "text/plain": [
       "     v1                                                 v2\n",
       "0   ham  Go until jurong point, crazy.. Available only ...\n",
       "1   ham                      Ok lar... Joking wif u oni...\n",
       "2  spam  Free entry in 2 a wkly comp to win FA Cup fina...\n",
       "3   ham  U dun say so early hor... U c already then say...\n",
       "4   ham  Nah I don't think he goes to usf, he lives aro..."
      ]
     },
     "execution_count": 3,
     "metadata": {},
     "output_type": "execute_result"
    }
   ],
   "source": [
    "# display\n",
    "df.head()"
   ]
  },
  {
   "cell_type": "markdown",
   "id": "e069c399-a0da-4227-9230-4f15858152f8",
   "metadata": {},
   "source": [
    "## Preprocess data"
   ]
  },
  {
   "cell_type": "code",
   "execution_count": 4,
   "id": "2198690c-3f1c-4fb8-9102-7bd48c06ef1f",
   "metadata": {},
   "outputs": [
    {
     "data": {
      "text/plain": [
       "(\"But i'll b going 2 sch on mon. My sis need 2 take smth.\", 'ham')"
      ]
     },
     "execution_count": 4,
     "metadata": {},
     "output_type": "execute_result"
    }
   ],
   "source": [
    "# separate target from input text\n",
    "x, y = df['v2'], df['v1']\n",
    "\n",
    "# print example\n",
    "idx = 2000\n",
    "x[idx], y[idx]"
   ]
  },
  {
   "cell_type": "code",
   "execution_count": 5,
   "id": "c2790db0-b538-419d-bb00-2b6641adacde",
   "metadata": {},
   "outputs": [],
   "source": [
    "# preprocess text data\n",
    "def preprocessor(text):\n",
    "    text = re.sub('<[^>]*>', '', text) # Effectively removes HTML markup tags\n",
    "    emoticons = re.findall('(?::|;|=)(?:-)?(?:\\)|\\(|D|P)', text)\n",
    "    text = re.sub('[\\W]+', ' ', text.lower()) + ' '.join(emoticons).replace('-', '')\n",
    "    return text"
   ]
  },
  {
   "cell_type": "code",
   "execution_count": 6,
   "id": "1de1da53-4420-43e0-af11-e7438924bc0c",
   "metadata": {},
   "outputs": [],
   "source": [
    "# train-test split\n",
    "x_train, x_test, y_train, y_test = train_test_split(x, y, test_size=0.2, random_state=123)"
   ]
  },
  {
   "cell_type": "markdown",
   "id": "e401a8dd-25b2-49fe-be5c-c03effc741a0",
   "metadata": {},
   "source": [
    "## Train a text classification model"
   ]
  },
  {
   "cell_type": "code",
   "execution_count": 7,
   "id": "d071c491-e5af-450d-84b8-9161e2274b04",
   "metadata": {},
   "outputs": [
    {
     "name": "stdout",
     "output_type": "stream",
     "text": [
      "[Pipeline] ........ (step 1 of 2) Processing vectorizer, total=   0.1s\n",
      "[Pipeline] ..... (step 2 of 2) Processing nn_classifier, total=  35.4s\n"
     ]
    },
    {
     "data": {
      "text/plain": [
       "Pipeline(steps=[('vectorizer',\n",
       "                 TfidfVectorizer(lowercase=False, max_features=700,\n",
       "                                 preprocessor=<function preprocessor at 0x00000224B23DCAF0>)),\n",
       "                ('nn_classifier',\n",
       "                 MLPClassifier(hidden_layer_sizes=(800, 600)))],\n",
       "         verbose=True)"
      ]
     },
     "execution_count": 7,
     "metadata": {},
     "output_type": "execute_result"
    }
   ],
   "source": [
    "tfidf = TfidfVectorizer(strip_accents=None, lowercase=False, max_features=700, preprocessor=preprocessor, ngram_range=(1,1))\n",
    "\n",
    "\n",
    "neural_net_pipeline = Pipeline([\n",
    "    ('vectorizer', tfidf),\n",
    "    ('nn_classifier', MLPClassifier(hidden_layer_sizes=(800, 600)))\n",
    "], verbose=True)\n",
    "\n",
    "\n",
    "neural_net_pipeline.fit(x_train, y_train)"
   ]
  },
  {
   "cell_type": "code",
   "execution_count": 8,
   "id": "ceb45095-0853-49c1-8dc8-4e3707c2cf8c",
   "metadata": {},
   "outputs": [
    {
     "name": "stdout",
     "output_type": "stream",
     "text": [
      "              precision    recall  f1-score   support\n",
      "\n",
      "         ham       0.98      1.00      0.99       982\n",
      "        spam       0.97      0.88      0.92       133\n",
      "\n",
      "    accuracy                           0.98      1115\n",
      "   macro avg       0.98      0.94      0.96      1115\n",
      "weighted avg       0.98      0.98      0.98      1115\n",
      "\n",
      "Accuracy: 98.29596412556054 %\n"
     ]
    }
   ],
   "source": [
    "y_pred = neural_net_pipeline.predict(x_test)\n",
    "print(classification_report(y_test, y_pred))\n",
    "print('Accuracy: {} %'.format(100 * accuracy_score(y_test, y_pred)))"
   ]
  },
  {
   "cell_type": "code",
   "execution_count": 9,
   "id": "f1a1b681-ecfe-4817-8c5b-25288169bbe8",
   "metadata": {},
   "outputs": [
    {
     "data": {
      "text/plain": [
       "['spam_classifier.joblib']"
      ]
     },
     "execution_count": 9,
     "metadata": {},
     "output_type": "execute_result"
    }
   ],
   "source": [
    "joblib.dump(neural_net_pipeline, 'spam_classifier.joblib')"
   ]
  },
  {
   "cell_type": "markdown",
   "id": "614803da-7539-4b93-9984-bd1851e48ae0",
   "metadata": {},
   "source": [
    "### [DEPREC] Take a look a vocabulary"
   ]
  },
  {
   "cell_type": "code",
   "execution_count": 10,
   "id": "52865622-4c2e-4d6a-a9ee-a58236bef550",
   "metadata": {},
   "outputs": [
    {
     "name": "stdout",
     "output_type": "stream",
     "text": [
      "  (0, 676)\t0.3828817317746881\n",
      "  (0, 638)\t0.31626839014952657\n",
      "  (0, 614)\t0.398807087387503\n",
      "  (0, 569)\t0.26993054547368095\n",
      "  (0, 427)\t0.2708251709261636\n",
      "  (0, 298)\t0.1858974189812721\n",
      "  (0, 249)\t0.3126805498989119\n",
      "  (0, 247)\t0.26563760071081977\n",
      "  (0, 240)\t0.256865405261823\n",
      "  (0, 63)\t0.4233791106411941\n",
      "  (1, 660)\t0.6604653083972\n",
      "  (1, 419)\t0.4164158171894947\n",
      "  (1, 315)\t0.6248067249943752\n",
      "  (2, 664)\t0.23112807387050585\n",
      "  (2, 611)\t0.19401254746439592\n",
      "  (2, 587)\t0.28350033540703856\n",
      "  (2, 558)\t0.19174312144678154\n",
      "  (2, 481)\t0.2609216402347037\n",
      "  (2, 475)\t0.2634507832385311\n",
      "  (2, 473)\t0.2789682308604613\n",
      "  (2, 356)\t0.2464590438444451\n",
      "  (2, 298)\t0.12609523496268285\n",
      "  (2, 222)\t0.17999614570834122\n",
      "  (2, 211)\t0.28718036391872315\n",
      "  (2, 195)\t0.5617578046486681\n",
      "  (2, 53)\t0.2634507832385311\n"
     ]
    }
   ],
   "source": [
    "vect = tfidf.fit(x)\n",
    "print(vect.transform(x[:3]))"
   ]
  },
  {
   "cell_type": "code",
   "execution_count": 11,
   "id": "c8f8d8c3-713d-4471-aa6f-ae65a45de540",
   "metadata": {},
   "outputs": [
    {
     "name": "stdout",
     "output_type": "stream",
     "text": [
      "Length of the vocabulary: 700\n",
      "---> sample of the vocabulary:  {'go': 240, 'until': 614, 'available': 63, 'only': 427, 'in': 298, 'great': 249, 'world': 676, 'there': 569, 'got': 247, 'wat': 638}\n"
     ]
    }
   ],
   "source": [
    "print('Length of the vocabulary:', len(vect.vocabulary_))\n",
    "print('---> sample of the vocabulary: ', {key: vect.vocabulary_[key] for key in list(vect.vocabulary_.keys())[:10]})"
   ]
  },
  {
   "cell_type": "markdown",
   "id": "5b863819-21ba-4f30-80de-92754888e6f4",
   "metadata": {},
   "source": [
    "### [DEPREC] Example predictions"
   ]
  },
  {
   "cell_type": "code",
   "execution_count": 12,
   "id": "c667c100-183e-4605-8a09-afb08a3f4bc0",
   "metadata": {},
   "outputs": [
    {
     "name": "stdout",
     "output_type": "stream",
     "text": [
      "spam ----- +123 Congratulations - in this week's competition draw u have won the å£1450 prize to claim just call 09050002311 b4280703. T&Cs/stop SMS 08718727868. Over 18 only 150ppm\n"
     ]
    }
   ],
   "source": [
    "index = 2123\n",
    "# x_sample = x_test.loc[x_test.index[811]]\n",
    "x_sample = x_test.loc[index]\n",
    "y_sample = y_test[index]\n",
    "print(y_sample, '-----', x_sample)"
   ]
  },
  {
   "cell_type": "code",
   "execution_count": 13,
   "id": "41df08a8-838c-42ae-a422-c254ef6cd949",
   "metadata": {},
   "outputs": [
    {
     "data": {
      "text/plain": [
       "array(['ham'], dtype='<U4')"
      ]
     },
     "execution_count": 13,
     "metadata": {},
     "output_type": "execute_result"
    }
   ],
   "source": [
    "neural_net_pipeline.predict([x_sample])"
   ]
  },
  {
   "cell_type": "code",
   "execution_count": 14,
   "id": "56437d15-a5e6-4ffc-8fba-4b5f7f481125",
   "metadata": {},
   "outputs": [
    {
     "data": {
      "text/plain": [
       "array([[9.99999066e-01, 9.34261442e-07]])"
      ]
     },
     "execution_count": 14,
     "metadata": {},
     "output_type": "execute_result"
    }
   ],
   "source": [
    "neural_net_pipeline.predict_proba([x_sample])"
   ]
  }
 ],
 "metadata": {
  "kernelspec": {
   "display_name": "Python 3 (ipykernel)",
   "language": "python",
   "name": "python3"
  },
  "language_info": {
   "codemirror_mode": {
    "name": "ipython",
    "version": 3
   },
   "file_extension": ".py",
   "mimetype": "text/x-python",
   "name": "python",
   "nbconvert_exporter": "python",
   "pygments_lexer": "ipython3",
   "version": "3.9.7"
  }
 },
 "nbformat": 4,
 "nbformat_minor": 5
}
